{
  "nbformat": 4,
  "nbformat_minor": 0,
  "metadata": {
    "colab": {
      "name": "L01: Greedy.ipynb",
      "provenance": [],
      "include_colab_link": true
    },
    "kernelspec": {
      "name": "python3",
      "display_name": "Python 3"
    }
  },
  "cells": [
    {
      "cell_type": "markdown",
      "metadata": {
        "id": "view-in-github",
        "colab_type": "text"
      },
      "source": [
        "<a href=\"https://colab.research.google.com/github/bereacs/l01-greedy-tsp-ACBerea/blob/master/L01_Greedy.ipynb\" target=\"_parent\"><img src=\"https://colab.research.google.com/assets/colab-badge.svg\" alt=\"Open In Colab\"/></a>"
      ]
    },
    {
      "cell_type": "markdown",
      "metadata": {
        "id": "Ws6rXa1xv_gv"
      },
      "source": [
        "# [L01: Implementing Greedy TSP](https://docs.google.com/document/d/1JA_CWBXPN6whvJAemnJLvtYJ3Pbk84dTUolWO_QqosA/edit?usp=sharing)\n",
        "Written by Dr. Jan Pearce, Berea College\n",
        "\n",
        "Complete the code by meeting all linked requirements and fixing all FIXMEs\n",
        "\n",
        "## Your Name: Andrew Carnes"
      ]
    },
    {
      "cell_type": "markdown",
      "metadata": {
        "id": "PvEpt0HPKq9X"
      },
      "source": [
        "**SUMMARY**: A brief summary description of the design and implementation, including how much your initial design plan evolved, the final result you achieved and the amount of time you spent as a programmer or programmers in accomplishing these results. This should be no more than two paragraphs.\n",
        "\n",
        "The amount of time this took was around 6 to 8 hours, working at a slow to moderate pace for large chunks of time.\n",
        "\n",
        "**PERSONNEL**: A description of who you worked with and on what sections.  It is expected that all collaboration is done as pair programming together. Also, note these collaborations in the code section itself.\n",
        "\n",
        "I did not work with others, but did use multiple sources to help me through the project. Below are the sources:\n",
        "\n",
        "\n",
        "**CHALLENGES**: Descriptions of the largest challenges you overcame and what made them challenging.\n",
        "\n",
        "The hardest challenges mainly came in the extractData function and the getRoute function. For extractData, I had limited knowledge of working directly with files in programs, so I had to take a step back and do some research on the concept of iterating through one and extracting and remapping data. The getRoute function's while loop forced me to constantly reconsider how it works. The minDist variable and its comparative nature were not something I understood that well at first, upon initially looking it up. Eventually, I figured out how to work with it. The function for the docstring also gave me some hassle with the formatting, but that was corrected by looking up how formal formatting worked.\n",
        "\n",
        "**INNOVATIONS**: Any innovations that were not specifically required by the assignment. These are not required, but should be highlighted if included.\n",
        "\n",
        "I reworked the file input to allow for both of the given text files to be implemented in order to prove that my code could work with both files. I also added a function for the docstring requirement, which would print the docstring after the graph.\n",
        "\n",
        "**TESTING**: Describe how you tested this work.\n",
        "\n",
        "Testing mostly came in the form of trial and error. I compared the expected results to the actual result and worked from there. I would make minor debug lines to test certain functions.\n",
        "\n",
        "**ERRORS**: A list in bulleted form of all known errors and deficiencies.\n",
        "\n",
        "* Cost is not listed for comparison purposes.\n",
        "* The input code does not account for putting input aside from 1 or 2, which causes the program not to work correctly.\n",
        "* If a file is not formatted the same way as the current files used or uses strings as opposed to floats or integers, the code will not run properly.\n",
        "\n",
        "**COMMENTS**: A paragraph or so of your own comments on and reactions to the Lab.\n",
        "\n",
        "This lab was fairly challenging, as I haven't worked with Python or code in general for a while. It was a good refresher of basic concepts while introducing some new concepts like file iteration or mapping. I struggled more than I expected with the getRoute function. It had expanded from the simple idea of putting nVisits values into visits to implementing a minimum distance that would compare the current nodes distance to the other nodes around it and decide the shortest distance between the calculated distances. Still, these struggles were beneficial in improving my understanding of the assignment and of greedy algorithms in general."
      ]
    },
    {
      "cell_type": "markdown",
      "metadata": {
        "id": "lRXe-Atyv30H"
      },
      "source": [
        "## Import Libraries"
      ]
    },
    {
      "cell_type": "code",
      "metadata": {
        "id": "b6koAGG2mhix"
      },
      "source": [
        "import networkx as nx\n",
        "import matplotlib.pyplot as plt\n",
        "import math\n",
        "from urllib.request import urlopen"
      ],
      "execution_count": 65,
      "outputs": []
    },
    {
      "cell_type": "markdown",
      "metadata": {
        "id": "y-JqngNLmhVG"
      },
      "source": [
        "### Read data"
      ]
    },
    {
      "cell_type": "code",
      "metadata": {
        "id": "GzeEKA-nwLsJ",
        "outputId": "c0239a5e-d53a-4333-df79-9b66181d747d",
        "colab": {
          "base_uri": "https://localhost:8080/"
        }
      },
      "source": [
        "option1 = urlopen(\"http://cs.berea.edu/courses/csc445/data/tsp-small.txt\").read().decode('ASCII')\n",
        "option2 = urlopen(\"https://cs.berea.edu/courses/csc445/data/tsp-48.txt\").read().decode('ASCII')\n",
        "choice = input(\"For option 1, type 1. For option 2, type 2. \")\n",
        "if choice == \"1\":\n",
        "  tspdata = option1\n",
        "else:\n",
        "  tspdata = option2\n",
        "print(tspdata)"
      ],
      "execution_count": 66,
      "outputs": [
        {
          "output_type": "stream",
          "name": "stdout",
          "text": [
            "For option 1, type 1. For option 2, type 2. 1\n",
            "6\n",
            "1 5 \n",
            "3 7 \n",
            "5 11 \n",
            "3 5 \n",
            "5 7 \n",
            "7 9 \n",
            "\n"
          ]
        }
      ]
    },
    {
      "cell_type": "markdown",
      "metadata": {
        "id": "qGcB5022KlHL"
      },
      "source": [
        "## TSP Class"
      ]
    },
    {
      "cell_type": "code",
      "metadata": {
        "id": "KIzVOICElISX",
        "outputId": "f243c83d-6696-4bce-f215-57877189b14e",
        "colab": {
          "base_uri": "https://localhost:8080/",
          "height": 690
        }
      },
      "source": [
        "\"\"\"\n",
        "\n",
        "Given certain input, it uses the greedy algorithm to plot a graph and output a file of the solution path\n",
        "\"\"\"\n",
        "\n",
        "class TSP:\n",
        "\n",
        "    def __init__(self):\n",
        "        \"\"\" TSP class containing data needed for networkx graph creation, file reading and file writing.\n",
        "            Creates a graph for the traveling salesperon problem using the greedy algorithm\n",
        "        \"\"\"\n",
        "        #\n",
        "        self.dimension = None\n",
        "        # Presumably a list that holds the key-value pairs of the nodes.\n",
        "        self.nodeData = []\n",
        "        # For creating and manipulating the graph.\n",
        "        self.graph = nx.DiGraph()\n",
        "        # The location of each node (I think it's a key value pair)\n",
        "        self.coords = {}\n",
        "        # The list of places\n",
        "        self.places = []\n",
        "        #The route for the greedy TSP solution.\n",
        "        self.route = []\n",
        "\n",
        "    def extractData(self, inputFile=\"\"):\n",
        "        \"\"\"\n",
        "        Itterate through the input file and append each coordinate into the node list.\n",
        "        Keyword Arguments:\n",
        "            inputFile {str} -- a string for the file name (default: {\"\"})\n",
        "        \"\"\"\n",
        "        # Set inputData to a local variable.\n",
        "        inputData = inputFile\n",
        "        # Read the file\n",
        "        if \"\\n\" in inputData:\n",
        "          lines = inputData.split(\"\\n\")\n",
        "        else:\n",
        "          with open(inputFile, \"r\") as id:\n",
        "            lines = id.readlines()\n",
        "\n",
        "        # Set the dimensions of the node\n",
        "        self.dimension = int(lines[0].strip())\n",
        "        # Append Each Coordinate into the node list (Make sure to exclude line 0 as it is the total number of nodes).\n",
        "        for nodeId, line in enumerate(lines[1:], start=1):\n",
        "          # If line is not malformed, then convert the line into an into and append the nodeId, x and y values to to the nodeData list.\n",
        "          if line.strip():\n",
        "            x, y = map(int, line.strip().split())\n",
        "            self.nodeData.append((nodeId, x, y))\n",
        "\n",
        "    def setUpCoords(self):\n",
        "        \"\"\" Puts the coordinates for each node into a dictionary as a tuple with the node as the key \"\"\"\n",
        "        # Initialize dictionary\n",
        "        coordsDict = {}\n",
        "        # append nodeData as a tuple with each node as the key (nodeId) and coords as the value.\n",
        "        for val in self.nodeData:\n",
        "            coordsDict[val[0]] = (val[1], val[2])\n",
        "        self.coords = coordsDict\n",
        "\n",
        "\n",
        "    def calculateDistance(self, a, b):\n",
        "        \"\"\"calculates & returns the distance between points a and b\n",
        "        Arguments:\n",
        "            a {[tuple]} -- tuple of numbers for the x and y coordinate of a node\n",
        "            b {[tuple]} -- tuple of numbers for the x and y coordinate of a node\n",
        "        Returns:\n",
        "            [float] -- the distance between the two points using the distance formula\n",
        "        \"\"\"\n",
        "        # Initialize a and b. Use placeholder coordinates based on self.coords.\n",
        "        a = (a[0], a[1])\n",
        "        b = (b[0], b[1])\n",
        "        # Distance Formula\n",
        "        return math.sqrt((a[0] - b[0])**2 + (a[1] - b[1])**2)\n",
        "\n",
        "    def getRoute(self, current, visits=[], nVisits=[], needList=True):\n",
        "        \"\"\"Makes a list of the nodes to be visited, in order, according to the greedy alogorithm for the TSP\n",
        "        Arguments:\n",
        "            current {int} -- the node to start at, not a list index\n",
        "        Keyword Arguments:\n",
        "            visits {list} -- list of places already visited (default: {[]})\n",
        "            nVisits {list} -- list of places not visited (default: {[]})\n",
        "            needList {bool} -- boolean deciding if the list of places not visited needs to be filled (default: {True})\n",
        "        \"\"\"\n",
        "         # 3 Conditionals:\n",
        "        # Check if the node has already been visited.\n",
        "        # If the node has been visited, then add to the visited list and continue to look for other nodes.\n",
        "        # If the node has not been visited, then calculate the distance between the current node and all of the other non-visited nodes.\n",
        "        # Compare each distance and determine which, out of all the distances, is the smallest. (Might be in the greedy algorithm part).\n",
        "        # Move to that node and repeat the process. (Might be in the greedy algorithm part).\n",
        "\n",
        "        # Initalize visits and nVisits\n",
        "        if visits is None:\n",
        "            visits = []\n",
        "        if nVisits is None:\n",
        "            nVisits = list(self.graph.nodes())\n",
        "\n",
        "        # If needList is true, then set nVists to the listPlaces. This will give nVisits all of the locations it needs.\n",
        "        if needList:\n",
        "            nVisits = self.listPlaces()\n",
        "            visits = []\n",
        "\n",
        "        # Add current to the visited list and remove current from the nVisited list.\n",
        "        if current in nVisits:\n",
        "            visits.append(current)\n",
        "            nVisits.remove(current)\n",
        "\n",
        "        # A while function that removes from nVisits and adds to visits so long as nVisits is not empty.\n",
        "        while nVisits:\n",
        "            currentCoords = self.coords[current]\n",
        "            # Create an unrestrcted value for minDist to compare.\n",
        "            minDist = float('inf')\n",
        "            nearestNode = None\n",
        "            # Compare the distance of the current and next nodes to see which distance is the shortest. (Do so until the visit list is filled.)\n",
        "            for node in nVisits:\n",
        "                # Aquire the nodes coordinates.\n",
        "                nodeCoords = self.coords[node]\n",
        "                # Determine the distance of the current and next node according to the distance formula.\n",
        "                distance = self.calculateDistance(currentCoords, nodeCoords)\n",
        "                # Check if the distance is less than the current minDist.\n",
        "                if distance < minDist:\n",
        "                    minDist = distance\n",
        "                    nearestNode = node\n",
        "            # Append the nearest node to the visits list.\n",
        "            visits.append(nearestNode)\n",
        "            # Remove the nearest node from the nVisits list.\n",
        "            nVisits.remove(nearestNode)\n",
        "            # Set the nearest node to the current node.\n",
        "            current = nearestNode\n",
        "\n",
        "        return visits\n",
        "\n",
        "    def beGreedy(self, start):\n",
        "        \"\"\" puts together the greedy algorithm. Gets the route order and adds the starting place to the end of the route\n",
        "        Arguments:\n",
        "            start -- the starting node for the greedy algorithm\n",
        "        \"\"\"\n",
        "        bestTourSoFar = None\n",
        "        costOfBestTourSoFar = float('inf')\n",
        "        for start in self.listPlaces():\n",
        "          # Get the greedy route from the starting city\n",
        "            tour = self.getRoute(start)\n",
        "            tour.append(start)\n",
        "\n",
        "            cost = 0\n",
        "            for i in range(len(tour)-1):\n",
        "                cost += self.calculateDistance(self.coords[tour[i]], self.coords[tour[i+1]])\n",
        "\n",
        "            if cost < costOfBestTourSoFar:\n",
        "                bestTourSoFar = tour\n",
        "                costOfBestTourSoFar = cost\n",
        "        self.route = bestTourSoFar\n",
        "        return bestTourSoFar, costOfBestTourSoFar\n",
        "\n",
        "    def listPlaces(self):\n",
        "        \"\"\"makes a list of all the nodes/places from the dictionary\n",
        "        Returns:\n",
        "            [list] -- list of all the nodes/places\n",
        "        \"\"\"\n",
        "        # Initalize List.\n",
        "        placesList = []\n",
        "        # Set the identifiers for each coordinate pair of each node to the placesList[].\n",
        "        for keys in self.coords:\n",
        "            placesList.append(keys)\n",
        "        return placesList\n",
        "\n",
        "    def cleanUpList(self, visited, notVisited):\n",
        "        \"\"\"removes items in visited from notVisited\n",
        "        Arguments:\n",
        "            visited {list}\n",
        "            notVisited {list}\n",
        "        Returns:\n",
        "            [list] -- a list of notVisited - visited\n",
        "        \"\"\"\n",
        "\n",
        "        for item in visited:\n",
        "            if item in notVisited:\n",
        "                notVisited.remove(item)\n",
        "        return notVisited\n",
        "\n",
        "    def addNodes(self):\n",
        "        \"\"\" adds nodes to the networkx graph\n",
        "        \"\"\"\n",
        "\n",
        "        for everything in self.nodeData:\n",
        "            node = everything[0]\n",
        "            self.graph.add_node(node, pos=self.coords[node])\n",
        "\n",
        "    def addEdges(self):\n",
        "        \"\"\"Adds graphs to the networkx graph\n",
        "        \"\"\"\n",
        "\n",
        "        x = 0\n",
        "        while x < len(self.route)-1:\n",
        "            self.graph.add_edge(self.route[x], self.route[x+1],\n",
        "                                weight=self.calculateDistance(self.coords[self.route[x]], self.coords[self.route[x+1]]))\n",
        "            x += 1\n",
        "\n",
        "    def showGraph(self):\n",
        "        \"\"\"Uses the imported libraries to display the graph\n",
        "        \"\"\"\n",
        "        # get labels and coordinates for the graph\n",
        "        coords = nx.get_node_attributes(self.graph, 'pos')\n",
        "        labels = nx.get_edge_attributes(self.graph, 'weight')\n",
        "        # draw nodes in their coordinates\n",
        "        nx.draw(self.graph, coords)\n",
        "        nx.draw_networkx_labels(self.graph, coords)\n",
        "        # draw edges with their weights\n",
        "        nx.draw_networkx_edge_labels(self.graph, coords, edge_labels=labels)\n",
        "        plt.show()\n",
        "\n",
        "def tourResultsDocstring(self):\n",
        "    docstring = '\"\"\"'\n",
        "    route_lines = [str((self.dimension))]\n",
        "    for node in self.route:\n",
        "      x, y = self.coords[node]\n",
        "      route_lines.append(f\"{x} {y}\")\n",
        "\n",
        "    return docstring + \"\\n\" + \"\\n\".join(route_lines) + \"\\n\" + docstring\n",
        "\n",
        "\n",
        "def main():\n",
        "    tsp = TSP()\n",
        "\n",
        "    tsp.extractData(tspdata)\n",
        "    tsp.setUpCoords()\n",
        "    tsp.addNodes()\n",
        "    tsp.beGreedy(1)\n",
        "    tsp.addEdges()\n",
        "    tsp.showGraph()\n",
        "    print(tourResultsDocstring(tsp))\n",
        "\n",
        "main()"
      ],
      "execution_count": 67,
      "outputs": [
        {
          "output_type": "display_data",
          "data": {
            "text/plain": [
              "<Figure size 640x480 with 1 Axes>"
            ],
            "image/png": "[encoded data removed]"
          },
          "metadata": {}
        },
        {
          "output_type": "stream",
          "name": "stdout",
          "text": [
            "\"\"\"\n",
            "6\n",
            "3 7\n",
            "3 5\n",
            "1 5\n",
            "5 7\n",
            "7 9\n",
            "5 11\n",
            "3 7\n",
            "\"\"\"\n"
          ]
        }
      ]
    },
    {
      "cell_type": "markdown",
      "metadata": {
        "id": "-6HarsXemeKP"
      },
      "source": []
    }
  ]
}