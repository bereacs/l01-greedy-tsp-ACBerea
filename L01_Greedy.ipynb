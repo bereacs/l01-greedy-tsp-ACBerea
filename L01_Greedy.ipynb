{
  "nbformat": 4,
  "nbformat_minor": 0,
  "metadata": {
    "colab": {
      "name": "L01: Greedy.ipynb",
      "provenance": [],
      "include_colab_link": true
    },
    "kernelspec": {
      "name": "python3",
      "display_name": "Python 3"
    }
  },
  "cells": [
    {
      "cell_type": "markdown",
      "metadata": {
        "id": "view-in-github",
        "colab_type": "text"
      },
      "source": [
        "<a href=\"https://colab.research.google.com/github/bereacs/l01-greedy-tsp-ACBerea/blob/master/L01_Greedy.ipynb\" target=\"_parent\"><img src=\"https://colab.research.google.com/assets/colab-badge.svg\" alt=\"Open In Colab\"/></a>"
      ]
    },
    {
      "cell_type": "markdown",
      "metadata": {
        "id": "Ws6rXa1xv_gv"
      },
      "source": [
        "# [L01: Implementing Greedy TSP](https://docs.google.com/document/d/1JA_CWBXPN6whvJAemnJLvtYJ3Pbk84dTUolWO_QqosA/edit?usp=sharing)\n",
        "Written by Dr. Jan Pearce, Berea College\n",
        "\n",
        "Complete the code by meeting all linked requirements and fixing all FIXMEs\n",
        "\n",
        "## Your Name: Andrew Carnes"
      ]
    },
    {
      "cell_type": "markdown",
      "metadata": {
        "id": "PvEpt0HPKq9X"
      },
      "source": [
        "**SUMMARY**: A brief summary description of the design and implementation, including how much your initial design plan evolved, the final result you achieved and the amount of time you spent as a programmer or programmers in accomplishing these results. This should be no more than two paragraphs.\n",
        "\n",
        "FIXME\n",
        "\n",
        "**PERSONNEL**: A description of who you worked with and on what sections.  It is expected that all collaboration is done as pair programming together. Also, note these collaborations in the code section itself.\n",
        "\n",
        "FIXME\n",
        "\n",
        "**CHALLENGES**: Descriptions of the largest challenges you overcame and what made them challenging.\n",
        "\n",
        "FIXME\n",
        "\n",
        "**INNOVATIONS**: Any innovations that were not specifically required by the assignment. These are not required, but should be highlighted if included.\n",
        "\n",
        "FIXME\n",
        "\n",
        "**TESTING**: Describe how you tested this work.\n",
        "\n",
        "FIXME\n",
        "\n",
        "**ERRORS**: A list in bulleted form of all known errors and deficiencies.\n",
        "\n",
        "FIXME\n",
        "\n",
        "**COMMENTS**: A paragraph or so of your own comments on and reactions to the Lab.\n",
        "\n",
        "FIXME"
      ]
    },
    {
      "cell_type": "markdown",
      "metadata": {
        "id": "lRXe-Atyv30H"
      },
      "source": [
        "## Import Libraries"
      ]
    },
    {
      "cell_type": "code",
      "metadata": {
        "id": "b6koAGG2mhix"
      },
      "source": [
        "import networkx as nx\n",
        "import matplotlib.pyplot as plt\n",
        "import math\n",
        "from urllib.request import urlopen"
      ],
      "execution_count": 1,
      "outputs": []
    },
    {
      "cell_type": "markdown",
      "metadata": {
        "id": "y-JqngNLmhVG"
      },
      "source": [
        "### Read data"
      ]
    },
    {
      "cell_type": "code",
      "metadata": {
        "id": "GzeEKA-nwLsJ",
        "outputId": "2e18dfa0-5ea0-4740-ca2b-c2e16cc1cc21",
        "colab": {
          "base_uri": "https://localhost:8080/"
        }
      },
      "source": [
        "tspdata = urlopen(\"http://cs.berea.edu/courses/csc445/data/tsp-small.txt\").read().decode('ASCII')\n",
        "print(tspdata)"
      ],
      "execution_count": 2,
      "outputs": [
        {
          "output_type": "stream",
          "name": "stdout",
          "text": [
            "6\r\n",
            "1 5 \r\n",
            "3 7 \r\n",
            "5 11 \r\n",
            "3 5 \r\n",
            "5 7 \r\n",
            "7 9 \r\n",
            "\n"
          ]
        }
      ]
    },
    {
      "cell_type": "markdown",
      "metadata": {
        "id": "qGcB5022KlHL"
      },
      "source": [
        "## TSP Class"
      ]
    },
    {
      "cell_type": "code",
      "metadata": {
        "id": "KIzVOICElISX",
        "outputId": "ed7f1ba1-773d-4a45-9a7a-aa1add436591",
        "colab": {
          "base_uri": "https://localhost:8080/",
          "height": 516
        }
      },
      "source": [
        "\"\"\"\n",
        "\n",
        "Given certain input, it uses the greedy algorithm to plot a graph and output a file of the solution path\n",
        "\"\"\"\n",
        "\n",
        "class TSP:\n",
        "\n",
        "    def __init__(self):\n",
        "        \"\"\" TSP class containing data needed for networkx graph creation, file reading and file writing.\n",
        "            Creates a graph for the traveling salesperon problem using the greedy algorithm\n",
        "        \"\"\"\n",
        "        # Completely unsure. Perhaps related to the size, shape, or elements of the printed graph? (Pehaps it is the amount of nodes total)\n",
        "        self.dimension = None\n",
        "        # Presumably a list that holds the key-value pairs of the nodes.\n",
        "        self.nodeData = []\n",
        "        # For creating and manipulating the graph.\n",
        "        self.graph = nx.DiGraph()\n",
        "        # The location of each node (I think it's a key value pair)\n",
        "        self.coords = {}\n",
        "        # The list of places\n",
        "        self.places = []\n",
        "        #The route for the greedy TSP solution.\n",
        "        self.route = []\n",
        "\n",
        "    def extractData(self, inputFile=\"\"):\n",
        "        \"\"\"\n",
        "        Itterate through the input file and append each coordinate into the node list.\n",
        "        Keyword Arguments:\n",
        "            inputFile {str} -- a string for the file name (default: {\"\"})\n",
        "        \"\"\"\n",
        "        # Set inputData to a local variable.\n",
        "        inputData = inputFile\n",
        "        # Read the file\n",
        "        if \"\\n\" in inputData:\n",
        "          lines = inputData.split(\"\\n\")\n",
        "        else:\n",
        "          with open(inputFile, \"r\") as id:\n",
        "            lines = id.readlines()\n",
        "\n",
        "        # Set the dimensions of the node\n",
        "        self.dimension = int(lines[0].strip())\n",
        "        # Append Each Coordinate into the node list (Make sure to exclude line 0 as it is the total number of nodes)\n",
        "        for nodeId, line in enumerate(lines[1:], start=1):\n",
        "          # If line is not malformed, then convert the line into an into and append the nodeId, x and y values to to the nodeData list.\n",
        "          if line.strip():\n",
        "            x, y = map(int, line.strip().split())\n",
        "            self.nodeData.append((nodeId, x, y))\n",
        "\n",
        "    def setUpCoords(self):\n",
        "        \"\"\" Puts the coordinates for each node into a dictionary as a tuple with the node as the key \"\"\"\n",
        "        # Initialize dictionary\n",
        "        coordsDict = {}\n",
        "        # append nodeData as a tuple with each node as the key (nodeId) and coords as the value.\n",
        "        for val in self.nodeData:\n",
        "            coordsDict[val[0]] = (val[1], val[2])\n",
        "        self.coords = coordsDict\n",
        "\n",
        "\n",
        "    def calculateDistance(self, a, b):\n",
        "        \"\"\"calculates & returns the distance between points a and b\n",
        "        Arguments:\n",
        "            a {[tuple]} -- tuple of numbers for the x and y coordinate of a node\n",
        "            b {[tuple]} -- tuple of numbers for the x and y coordinate of a node\n",
        "        Returns:\n",
        "            [float] -- the distance between the two points using the distance formula\n",
        "        \"\"\"\n",
        "        # Initialize a and b. Use placeholder coordinates based on self.coords.\n",
        "        a = (a[0], a[1])\n",
        "        b = (b[0], b[1])\n",
        "        # Distance Formula\n",
        "        return math.sqrt((a[0] - b[0])**2 + (a[1] - b[1])**2)\n",
        "\n",
        "    def getRoute(self, current, visits=[], nVisits=[], needList=True):\n",
        "        \"\"\"Makes a list of the nodes to be visited, in order, according to the greedy alogorithm for the TSP\n",
        "        Arguments:\n",
        "            current {int} -- the node to start at, not a list index\n",
        "        Keyword Arguments:\n",
        "            visits {list} -- list of places already visited (default: {[]})\n",
        "            nVisits {list} -- list of places not visited (default: {[]})\n",
        "            needList {bool} -- boolean deciding if the list of places not visited needs to be filled (default: {True})\n",
        "        \"\"\"\n",
        "         # 3 Conditionals:\n",
        "        # Check if the node has already been visited.\n",
        "        # If the node has been visited, then add to the visited list and continue to look for other nodes.\n",
        "        # If the node has not been visited, then calculate the distance between the current node and all of the other non-visited nodes.\n",
        "        # Compare each distance and determine which, out of all the distances, is the smallest. (Might be in the greedy algorithm part).\n",
        "        # Move to that node and repeat the process. (Might be in the greedy algorithm part).\n",
        "\n",
        "        # Initalize visits and nVisits\n",
        "        if visits is None:\n",
        "            visits = []\n",
        "        if nVisits is None:\n",
        "            nVisits = []\n",
        "\n",
        "        # If needList is true, then set nVists to the listPlaces. This will give nVisits all of the locations it needs.\n",
        "        if needList:\n",
        "            nVisits = self.listPlaces()\n",
        "            visits = []\n",
        "\n",
        "        # Add current to the visited list and remove current from the nVisited list\n",
        "        if current in nVisits:\n",
        "            visits.append(current)\n",
        "            nVisits.remove(current)\n",
        "\n",
        "        # A while function that removes from nVisits and adds to visits so long as nVisits is not empty.\n",
        "        while nVisits:\n",
        "            currentCoords = self.coords[current]\n",
        "            # Create an unrestrcted value for minDist to compare.\n",
        "            minDist = float('inf')\n",
        "            nearestNode = None\n",
        "            # Compare the distance of the current and next nodes to see which distance is the shortest. (Do so until the visit list is filled.)\n",
        "            for node in nVisits:\n",
        "                # Aquire the nodes coordinates.\n",
        "                nodeCoords = self.coords[node]\n",
        "                # Determine the distance of the current and next node according to the distance formula.\n",
        "                distance = self.calculateDistance(currentCoords, nodeCoords)\n",
        "                # Check if the distance is less than the current minDist.\n",
        "                if distance < minDist:\n",
        "                    minDist = distance\n",
        "                    nearestNode = node\n",
        "            # Append the nearest node to the visits list.\n",
        "            visits.append(nearestNode)\n",
        "            # Remove the nearest node from the nVisits list.\n",
        "            nVisits.remove(nearestNode)\n",
        "            # Set the nearest node to the current node.\n",
        "            current = nearestNode\n",
        "\n",
        "        return visits\n",
        "\n",
        "    def beGreedy(self, start):\n",
        "        \"\"\" puts together the greedy algorithm. Gets the route order and adds the starting place to the end of the route\n",
        "        Arguments:\n",
        "            start -- the starting node for the greedy algorithm\n",
        "        \"\"\"\n",
        "        routeOrder = self.getRoute(start)\n",
        "        routeOrder.append(start)\n",
        "        self.route = routeOrder\n",
        "        return routeOrder\n",
        "\n",
        "    def listPlaces(self):\n",
        "        \"\"\"makes a list of all the nodes/places from the dictionary\n",
        "        Returns:\n",
        "            [list] -- list of all the nodes/places\n",
        "        \"\"\"\n",
        "        # Initalize List.\n",
        "        placesList = []\n",
        "        # Set the identifiers for each coordinate pair of each node to the placesList[].\n",
        "        for keys in self.coords:\n",
        "            placesList.append(keys)\n",
        "        return placesList\n",
        "\n",
        "        #FIXME complete this function\n",
        "\n",
        "    def cleanUpList(self, visited, notVisited):\n",
        "        \"\"\"removes items in visited from notVisited\n",
        "        Arguments:\n",
        "            visited {list}\n",
        "            notVisited {list}\n",
        "        Returns:\n",
        "            [list] -- a list of notVisited - visited\n",
        "        \"\"\"\n",
        "\n",
        "        for item in visited:\n",
        "            if item in notVisited:\n",
        "                notVisited.remove(item)\n",
        "        return notVisited\n",
        "\n",
        "    def addNodes(self):\n",
        "        \"\"\" adds nodes to the networkx graph\n",
        "        \"\"\"\n",
        "\n",
        "        for everything in self.nodeData:\n",
        "            node = everything[0]\n",
        "            self.graph.add_node(node, pos=self.coords[node])\n",
        "\n",
        "    def addEdges(self):\n",
        "        \"\"\"Adds graphs to the networkx graph\n",
        "        \"\"\"\n",
        "\n",
        "        x = 0\n",
        "        while x < len(self.route)-1:\n",
        "            self.graph.add_edge(self.route[x], self.route[x+1],\n",
        "                                weight=self.calculateDistance(self.coords[self.route[x]], self.coords[self.route[x+1]]))\n",
        "            x += 1\n",
        "\n",
        "    def showGraph(self):\n",
        "        \"\"\"Uses the imported libraries to display the graph\n",
        "        \"\"\"\n",
        "        # get labels and coordinates for the graph\n",
        "        coords = nx.get_node_attributes(self.graph, 'pos')\n",
        "        labels = nx.get_edge_attributes(self.graph, 'weight')\n",
        "        # draw nodes in their coordinates\n",
        "        nx.draw(self.graph, coords)\n",
        "        nx.draw_networkx_labels(self.graph, coords)\n",
        "        # draw edges with their weights\n",
        "        nx.draw_networkx_edge_labels(self.graph, coords, edge_labels=labels)\n",
        "        plt.show()\n",
        "\n",
        "\n",
        "\n",
        "\n",
        "def main():\n",
        "    tsp = TSP()\n",
        "\n",
        "    tsp.extractData(tspdata)\n",
        "    tsp.setUpCoords()\n",
        "    tsp.addNodes()\n",
        "    tsp.beGreedy(1)\n",
        "    tsp.addEdges()\n",
        "    tsp.showGraph()\n",
        "\n",
        "\n",
        "main()"
      ],
      "execution_count": 5,
      "outputs": [
        {
          "output_type": "display_data",
          "data": {
            "text/plain": [
              "<Figure size 640x480 with 1 Axes>"
            ],
            "image/png": "[encoded data removed]"
          },
          "metadata": {}
        }
      ]
    },
    {
      "cell_type": "markdown",
      "metadata": {
        "id": "-6HarsXemeKP"
      },
      "source": []
    }
  ]
}